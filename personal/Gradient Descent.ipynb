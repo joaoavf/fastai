{
 "cells": [
  {
   "cell_type": "markdown",
   "metadata": {},
   "source": [
    "## Experiments implementing Gradient Descent on Python"
   ]
  },
  {
   "cell_type": "markdown",
   "metadata": {},
   "source": [
    "Importing libraries"
   ]
  },
  {
   "cell_type": "code",
   "execution_count": 1,
   "metadata": {},
   "outputs": [],
   "source": [
    "import numpy as np"
   ]
  },
  {
   "cell_type": "markdown",
   "metadata": {},
   "source": [
    "Initializing X random integer vector"
   ]
  },
  {
   "cell_type": "code",
   "execution_count": 2,
   "metadata": {},
   "outputs": [],
   "source": [
    "x_100 = np.random.randint(1050, size=100)"
   ]
  },
  {
   "cell_type": "markdown",
   "metadata": {},
   "source": [
    "Initializing Y vector based on $Y = X * 2 + 200$"
   ]
  },
  {
   "cell_type": "code",
   "execution_count": 3,
   "metadata": {},
   "outputs": [],
   "source": [
    "y_100 = x_100 * 2 + 200"
   ]
  },
  {
   "cell_type": "markdown",
   "metadata": {},
   "source": [
    "## Gradient Descent Function"
   ]
  },
  {
   "cell_type": "markdown",
   "metadata": {},
   "source": [
    "This gradient descent function was implemented based on fast.ai Excel Spreadsheet."
   ]
  },
  {
   "cell_type": "code",
   "execution_count": null,
   "metadata": {},
   "outputs": [],
   "source": [
    "def gradient_descent(x_arr, y_arr, step, lr, x0 = 0, x1 = 0):\n",
    "    # Initializes Mean Squared Error List\n",
    "    mse_list = []\n",
    "    for x, y in zip(x_arr, y_arr):\n",
    "        # Make prediction for a value of x\n",
    "        prediction = x0 + x1 * x\n",
    "        \n",
    "        # Calculates Mean Squared Error\n",
    "        mse = (y - prediction) ** 2\n",
    "        \n",
    "        # Calculates error for small increments in x0        \n",
    "        err_x0 = ((x0 + step + x1 * x) - y)**2\n",
    "        \n",
    "        # Calculates error for small increments in x1\n",
    "        err_x1 = ((x0 + (x1 + step) * x) - y)**2\n",
    "        \n",
    "        # Calculates how much the error changes by the small increment in x0        \n",
    "        dx0 = (err_x0 - mse) / step\n",
    "        \n",
    "        # Calculates how much the error changes by the small increment in x1        \n",
    "        dx1 = (err_x1 - mse) / step\n",
    "        \n",
    "        # Sets up new values for x0 and x1\n",
    "        x0 -= dx0 * lr  \n",
    "        x1 -= dx1 * lr\n",
    "        \n",
    "        # Appends Mean Squared Error to list\n",
    "        mse_list.append(mse)\n",
    "        \n",
    "    # Calculates the Root Mean Squared Error for the whole cycle\n",
    "    rmse = sum(mse_list)**1/2\n",
    "    \n",
    "    # Returns Values        \n",
    "    return x0, x1, rmse"
   ]
  },
  {
   "cell_type": "markdown",
   "metadata": {},
   "source": [
    "## Choosing Learning Rate"
   ]
  },
  {
   "cell_type": "markdown",
   "metadata": {},
   "source": [
    "Importing pandas"
   ]
  },
  {
   "cell_type": "code",
   "execution_count": 9,
   "metadata": {},
   "outputs": [],
   "source": [
    "import pandas as pd"
   ]
  },
  {
   "cell_type": "markdown",
   "metadata": {},
   "source": [
    "Testing a bunch of learning rates."
   ]
  },
  {
   "cell_type": "code",
   "execution_count": 21,
   "metadata": {},
   "outputs": [],
   "source": [
    "rmse_list = []\n",
    "for i in range(5,15):\n",
    "    x, y = 0, 0\n",
    "    for i in range(0, 1):\n",
    "        x, y, rmse = gradient_descent(x_100, y_100, 0.01, 1/10**i, x, y)\n",
    "    rmse_list.append(rmse)"
   ]
  },
  {
   "cell_type": "markdown",
   "metadata": {},
   "source": [
    "Checking which is the small learning rate, that provess to be 10 * 0.06"
   ]
  },
  {
   "cell_type": "code",
   "execution_count": 22,
   "metadata": {},
   "outputs": [
    {
     "data": {
      "text/plain": [
       "<matplotlib.axes._subplots.AxesSubplot at 0x1ccea14f240>"
      ]
     },
     "execution_count": 22,
     "metadata": {},
     "output_type": "execute_result"
    },
    {
     "data": {
      "image/png": "[encoded data removed]",
      "text/plain": [
       "<matplotlib.figure.Figure at 0x1ccea139898>"
      ]
     },
     "metadata": {},
     "output_type": "display_data"
    }
   ],
   "source": [
    "pd.Series(rmse_list).plot.bar(logy=True)"
   ]
  },
  {
   "cell_type": "code",
   "execution_count": null,
   "metadata": {},
   "outputs": [],
   "source": []
  }
 ],
 "metadata": {
  "kernelspec": {
   "display_name": "Python 3",
   "language": "python",
   "name": "python3"
  },
  "language_info": {
   "codemirror_mode": {
    "name": "ipython",
    "version": 3
   },
   "file_extension": ".py",
   "mimetype": "text/x-python",
   "name": "python",
   "nbconvert_exporter": "python",
   "pygments_lexer": "ipython3",
   "version": "3.6.4"
  }
 },
 "nbformat": 4,
 "nbformat_minor": 2
}
