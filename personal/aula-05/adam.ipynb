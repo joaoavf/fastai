{
 "cells": [
  {
   "cell_type": "markdown",
   "metadata": {},
   "source": [
    "## Experiments implementing Gradient Descent on Python"
   ]
  },
  {
   "cell_type": "markdown",
   "metadata": {},
   "source": [
    "Importing libraries"
   ]
  },
  {
   "cell_type": "code",
   "execution_count": 16,
   "metadata": {},
   "outputs": [],
   "source": [
    "import numpy as np"
   ]
  },
  {
   "cell_type": "markdown",
   "metadata": {},
   "source": [
    "Initializing X random integer vector"
   ]
  },
  {
   "cell_type": "code",
   "execution_count": 17,
   "metadata": {},
   "outputs": [],
   "source": [
    "x_100 = np.random.randint(1050, size=100)"
   ]
  },
  {
   "cell_type": "markdown",
   "metadata": {},
   "source": [
    "Initializing Y vector based on $Y = X * 2 + 200$"
   ]
  },
  {
   "cell_type": "code",
   "execution_count": 18,
   "metadata": {},
   "outputs": [],
   "source": [
    "y_100 = x_100 * 2 + 200"
   ]
  },
  {
   "cell_type": "markdown",
   "metadata": {},
   "source": [
    "## Gradient Descent Function"
   ]
  },
  {
   "cell_type": "markdown",
   "metadata": {},
   "source": [
    "This gradient descent function was implemented based on fast.ai Excel Spreadsheet."
   ]
  },
  {
   "cell_type": "code",
   "execution_count": 24,
   "metadata": {},
   "outputs": [],
   "source": [
    "def adam(x_arr, y_arr, step, lr, beta, beta2, x0 = 0, x1 = 0, momentum_x0 = 0, momentum_x1 = 0, sq_momentum_x0 = 0, sq_momentum_x1 =0):\n",
    "    # Initializes Mean Squared Error List\n",
    "    mse_list = []\n",
    "    for x, y in zip(x_arr, y_arr):\n",
    "        # Make prediction for a value of x\n",
    "        prediction = x0 + x1 * x\n",
    "        \n",
    "        # Calculates Mean Squared Error\n",
    "        mse = (y - prediction) ** 2\n",
    "        \n",
    "        # Calculates error for small increments in x0        \n",
    "        err_x0 = ((x0 + step + x1 * x) - y)**2\n",
    "        \n",
    "        # Calculates error for small increments in x1\n",
    "        err_x1 = ((x0 + (x1 + step) * x) - y)**2\n",
    "        \n",
    "        # Calculates how much the error changes by the small increment in x0        \n",
    "        dx0 = (err_x0 - mse) / step\n",
    "        \n",
    "        # Momentum X0\n",
    "        momentum_x0 = dx0 * (1 - beta) + momentum_x0 * beta\n",
    "        \n",
    "        # Calculates how much the error changes by the small increment in x1        \n",
    "        dx1 = (err_x1 - mse) / step\n",
    "        \n",
    "        # Momentum X1        \n",
    "        momentum_x1 = dx1 * (1 - beta) + momentum_x1 * beta\n",
    "        \n",
    "        # Squared Momentum X0\n",
    "        sq_momentum_x0 = momentum_x0**2 * (1 - beta2) + sq_momentum_x0 * beta2\n",
    "        \n",
    "        # Squared Momentum X0\n",
    "        sq_momentum_x1 = momentum_x1**2 * (1 - beta2) + sq_momentum_x1 * beta2\n",
    "          \n",
    "        # Sets up new values for x0 and x1\n",
    "        x0 -= momentum_x0 * lr / (sq_momentum_x0 ** 1/2)\n",
    "        x1 -= momentum_x1 * lr / (sq_momentum_x1 ** 1/2)\n",
    "        \n",
    "        # Appends Mean Squared Error to list\n",
    "        mse_list.append(mse)\n",
    "        \n",
    "    # Calculates the Root Mean Squared Error for the whole cycle\n",
    "    rmse = sum(mse_list)**1/2\n",
    "    \n",
    "    # Returns Values        \n",
    "    return x0, x1, momentum_x0, momentum_x1, sq_momentum_x0, sq_momentum_x1, rmse"
   ]
  },
  {
   "cell_type": "markdown",
   "metadata": {},
   "source": [
    "## Choosing Learning Rate"
   ]
  },
  {
   "cell_type": "markdown",
   "metadata": {},
   "source": [
    "Importing pandas"
   ]
  },
  {
   "cell_type": "code",
   "execution_count": 25,
   "metadata": {},
   "outputs": [],
   "source": [
    "import pandas as pd"
   ]
  },
  {
   "cell_type": "markdown",
   "metadata": {},
   "source": [
    "Testing a bunch of learning rates."
   ]
  },
  {
   "cell_type": "code",
   "execution_count": 29,
   "metadata": {},
   "outputs": [],
   "source": [
    "rmse_list = []\n",
    "for i in range(-5, 5):\n",
    "    x0, x1, momentum_x0, momentum_x1, sq_momentum_x0, sq_momentum_x1 = 0, 0, 0, 0, 0, 0\n",
    "    for w in range(0, 1):\n",
    "        x0, x1, momentum_x0, momentum_x1, sq_momentum_x0, sq_momentum_x1, rmse = adam(x_100, y_100, 0.00001, 1/10**i, .7, .9, x0, x1, momentum_x0, momentum_x1, sq_momentum_x0, sq_momentum_x1)\n",
    "    rmse_list.append(rmse)"
   ]
  },
  {
   "cell_type": "markdown",
   "metadata": {},
   "source": [
    "Checking which is the small learning rate, that provess to be 10 * 0.06"
   ]
  },
  {
   "cell_type": "code",
   "execution_count": 30,
   "metadata": {
    "scrolled": true
   },
   "outputs": [
    {
     "data": {
      "text/plain": [
       "[119598105.80684878,\n",
       " 3210548.074872493,\n",
       " 63589845.0624075,\n",
       " 87700034.62347132,\n",
       " 90197517.5738144,\n",
       " 90448039.61765853,\n",
       " 90473099.48444484,\n",
       " 90475605.54767106,\n",
       " 90475856.15475932,\n",
       " 90475881.21547586]"
      ]
     },
     "execution_count": 30,
     "metadata": {},
     "output_type": "execute_result"
    }
   ],
   "source": [
    "rmse_list"
   ]
  },
  {
   "cell_type": "code",
   "execution_count": 31,
   "metadata": {
    "scrolled": true
   },
   "outputs": [
    {
     "data": {
      "text/plain": [
       "<matplotlib.axes._subplots.AxesSubplot at 0x140100ed940>"
      ]
     },
     "execution_count": 31,
     "metadata": {},
     "output_type": "execute_result"
    },
    {
     "data": {
      "image/png": "[encoded data removed]",
      "text/plain": [
       "<matplotlib.figure.Figure at 0x140100fc208>"
      ]
     },
     "metadata": {},
     "output_type": "display_data"
    }
   ],
   "source": [
    "pd.Series(rmse_list).plot.bar(logy=True)"
   ]
  },
  {
   "cell_type": "code",
   "execution_count": 32,
   "metadata": {},
   "outputs": [],
   "source": [
    "rmse_list = []\n",
    "for w in range(0, 1000):\n",
    "    x0, x1, momentum_x0, momentum_x1, sq_momentum_x0, sq_momentum_x1, rmse = adam(x_100, y_100, 0.00001, 1/10**-4, .7, .9, x0, x1, momentum_x0, momentum_x1, sq_momentum_x0, sq_momentum_x1)\n",
    "    rmse_list.append(rmse)"
   ]
  },
  {
   "cell_type": "code",
   "execution_count": 33,
   "metadata": {},
   "outputs": [
    {
     "data": {
      "text/plain": [
       "<matplotlib.axes._subplots.AxesSubplot at 0x1400ff3a748>"
      ]
     },
     "execution_count": 33,
     "metadata": {},
     "output_type": "execute_result"
    },
    {
     "data": {
      "image/png": "[encoded data removed]",
      "text/plain": [
       "<matplotlib.figure.Figure at 0x1400ee94898>"
      ]
     },
     "metadata": {},
     "output_type": "display_data"
    }
   ],
   "source": [
    "pd.Series(rmse_list[100:]).plot()"
   ]
  },
  {
   "cell_type": "code",
   "execution_count": null,
   "metadata": {},
   "outputs": [],
   "source": []
  },
  {
   "cell_type": "code",
   "execution_count": 73,
   "metadata": {},
   "outputs": [
    {
     "data": {
      "text/plain": [
       "nan"
      ]
     },
     "execution_count": 73,
     "metadata": {},
     "output_type": "execute_result"
    }
   ],
   "source": [
    "rmse_list[-1]"
   ]
  },
  {
   "cell_type": "code",
   "execution_count": 80,
   "metadata": {},
   "outputs": [],
   "source": [
    "rmse_list = []\n",
    "\n",
    "for i in range(0,100):\n",
    "    x0, x1, momentum_x0, momentum_x1 = 0, 0, 0, 0\n",
    "    for w in range(0, 1000):\n",
    "        x0, x1, momentum_x0, momentum_x1, rmse = momentum(x_100, y_100, 0.00001, 1/10**6, i/100, x0, x1, momentum_x0, momentum_x1)\n",
    "    rmse_list.append(rmse)"
   ]
  },
  {
   "cell_type": "code",
   "execution_count": 81,
   "metadata": {},
   "outputs": [
    {
     "data": {
      "text/plain": [
       "<matplotlib.axes._subplots.AxesSubplot at 0x7d1b8d0>"
      ]
     },
     "execution_count": 81,
     "metadata": {},
     "output_type": "execute_result"
    },
    {
     "data": {
      "image/png": "[encoded data removed]",
      "text/plain": [
       "<matplotlib.figure.Figure at 0x7d77950>"
      ]
     },
     "metadata": {},
     "output_type": "display_data"
    }
   ],
   "source": [
    "pd.Series(rmse_list).plot.bar()"
   ]
  },
  {
   "cell_type": "markdown",
   "metadata": {},
   "source": []
  },
  {
   "cell_type": "code",
   "execution_count": 82,
   "metadata": {},
   "outputs": [
    {
     "data": {
      "text/plain": [
       "97    489938.453706\n",
       "98    493786.169279\n",
       "96    495289.898089\n",
       "99    499018.584800\n",
       "95    506799.615623\n",
       "94    531837.026079\n",
       "93    585338.353220\n",
       "89    598982.874621\n",
       "88    602181.754018\n",
       "90    603952.075403\n",
       "87    605459.331081\n",
       "86    607532.707068\n",
       "85    609793.488569\n",
       "84    613399.354375\n",
       "49    615219.467574\n",
       "50    615231.785860\n",
       "48    615382.267638\n",
       "51    615441.390381\n",
       "47    615699.487746\n",
       "52    615871.448020\n",
       "46    616152.242412\n",
       "53    616545.528481\n",
       "45    616723.675940\n",
       "44    617399.060089\n",
       "54    617486.881096\n",
       "43    618165.785581\n",
       "83    618684.328288\n",
       "55    618717.574531\n",
       "42    619013.266762\n",
       "41    619932.781652\n",
       "          ...      \n",
       "78    656015.410720\n",
       "67    656358.427487\n",
       "17    657185.327148\n",
       "16    659465.301648\n",
       "68    660175.532482\n",
       "77    661805.309142\n",
       "15    661842.745934\n",
       "69    663659.242027\n",
       "14    664327.991012\n",
       "76    666212.362637\n",
       "70    666666.298610\n",
       "13    666932.582095\n",
       "71    669045.326758\n",
       "75    669209.603357\n",
       "12    669669.318488\n",
       "72    670640.598016\n",
       "74    670865.918647\n",
       "73    671297.109067\n",
       "11    672552.296875\n",
       "10    675596.968492\n",
       "9     678820.223553\n",
       "8     682240.521221\n",
       "7     685878.087232\n",
       "6     689755.206263\n",
       "5     693896.641016\n",
       "4     698330.214879\n",
       "3     703087.599832\n",
       "2     708205.355590\n",
       "1     713726.269616\n",
       "0     719701.049797\n",
       "Length: 100, dtype: float64"
      ]
     },
     "execution_count": 82,
     "metadata": {},
     "output_type": "execute_result"
    }
   ],
   "source": [
    "pd.Series(rmse_list).sort_values()"
   ]
  },
  {
   "cell_type": "code",
   "execution_count": 77,
   "metadata": {},
   "outputs": [
    {
     "data": {
      "text/plain": [
       "499018.5847999307"
      ]
     },
     "execution_count": 77,
     "metadata": {},
     "output_type": "execute_result"
    }
   ],
   "source": [
    "rmse_list[]"
   ]
  },
  {
   "cell_type": "code",
   "execution_count": null,
   "metadata": {},
   "outputs": [],
   "source": []
  }
 ],
 "metadata": {
  "kernelspec": {
   "display_name": "Python 3",
   "language": "python",
   "name": "python3"
  },
  "language_info": {
   "codemirror_mode": {
    "name": "ipython",
    "version": 3
   },
   "file_extension": ".py",
   "mimetype": "text/x-python",
   "name": "python",
   "nbconvert_exporter": "python",
   "pygments_lexer": "ipython3",
   "version": "3.6.4"
  }
 },
 "nbformat": 4,
 "nbformat_minor": 2
}
